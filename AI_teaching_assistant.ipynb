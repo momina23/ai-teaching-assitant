{
  "cells": [
    {
      "cell_type": "markdown",
      "metadata": {
        "id": "OpjCbPiLDgoJ"
      },
      "source": [
        "**AI-Teaching Assistant - Project**"
      ]
    },
    {
      "cell_type": "code",
      "execution_count": 3,
      "metadata": {
        "id": "Luybu_MHDrXc"
      },
      "outputs": [],
      "source": [
        "import fitz  \n",
        "doc = fitz.open(\"Excerpts - Arendt - The Human Condition.pdf\")\n",
        "text = \"\"\n",
        "for page in doc:\n",
        "    text += page.get_text()"
      ]
    },
    {
      "cell_type": "code",
      "execution_count": 4,
      "metadata": {},
      "outputs": [],
      "source": [
        "from langchain.text_splitter import RecursiveCharacterTextSplitter\n",
        "\n",
        "splitter = RecursiveCharacterTextSplitter(chunk_size=500, chunk_overlap=50)\n",
        "docs = splitter.create_documents([text])"
      ]
    },
    {
      "cell_type": "code",
      "execution_count": 5,
      "metadata": {},
      "outputs": [
        {
          "name": "stderr",
          "output_type": "stream",
          "text": [
            "C:\\Users\\HP\\AppData\\Local\\Temp\\ipykernel_338460\\2310884709.py:3: LangChainDeprecationWarning: The class `HuggingFaceEmbeddings` was deprecated in LangChain 0.2.2 and will be removed in 1.0. An updated version of the class exists in the :class:`~langchain-huggingface package and should be used instead. To use it run `pip install -U :class:`~langchain-huggingface` and import as `from :class:`~langchain_huggingface import HuggingFaceEmbeddings``.\n",
            "  embeddings = HuggingFaceEmbeddings(model_name=\"sentence-transformers/all-MiniLM-L6-v2\")\n"
          ]
        }
      ],
      "source": [
        "from langchain_community.embeddings import HuggingFaceEmbeddings\n",
        "\n",
        "embeddings = HuggingFaceEmbeddings(model_name=\"sentence-transformers/all-MiniLM-L6-v2\")\n",
        "texts = [doc.page_content for doc in docs]\n",
        "\n",
        "doc_embeddings = embeddings.embed_documents(texts)"
      ]
    },
    {
      "cell_type": "code",
      "execution_count": 6,
      "metadata": {},
      "outputs": [],
      "source": [
        "from langchain.vectorstores import FAISS\n",
        "db = FAISS.from_documents(docs, embeddings)"
      ]
    },
    {
      "cell_type": "code",
      "execution_count": 7,
      "metadata": {},
      "outputs": [
        {
          "name": "stderr",
          "output_type": "stream",
          "text": [
            "C:\\Users\\HP\\AppData\\Local\\Temp\\ipykernel_338460\\3270450041.py:2: LangChainDeprecationWarning: The method `BaseRetriever.get_relevant_documents` was deprecated in langchain-core 0.1.46 and will be removed in 1.0. Use :meth:`~invoke` instead.\n",
            "  relevant_docs = retriever.get_relevant_documents(\"What is labor for Arendt?\")\n"
          ]
        }
      ],
      "source": [
        "retriever = db.as_retriever(search_type=\"similarity\", k=3)\n",
        "relevant_docs = retriever.get_relevant_documents(\"What is labor for Arendt?\")"
      ]
    },
    {
      "cell_type": "code",
      "execution_count": 8,
      "metadata": {},
      "outputs": [
        {
          "name": "stdout",
          "output_type": "stream",
          "text": [
            "ChatCompletionOutputMessage(role='assistant', content='<think>\\nOkay, let\\'s see. The user is asking, \"What is labor for Arendt?\" based on the provided context. I need to look through the excerpts from Hannah Arendt\\'s \"The Human Condition\" to find her definition of labor.\\n\\nFirst, the context mentions that Arendt distinguishes labor from work and action. It says, \"Arendt on how labor (not work or action) are the dominant activity...\" So she\\'s differentiating between these three terms. Then there\\'s a part about the \"theoretical glorification of labor\" leading to society becoming a \"laboring society.\" \\n\\nAnother key point is the quote: \"The blessing of life as a whole, inherent in labor, can never be found in work...\" This suggests that labor is about the basic necessities of life. Also, the text says labor is tied to the \"bondage to necessity\" and that it\\'s about \"producing the means of subsistence.\" \\n\\nThe passage also talks about how labor is connected to effort and gratification being closely linked, similar to producing and consuming. It contrasts labor with work and action, which are more about creating and engaging in the world. The \"instrumentalization of the world\" by homo faber might relate to labor\\'s role in producing things for survival.\\n\\nSo putting this together, labor for Arendt is the repetitive, necessary activity to produce what\\'s needed for survival, like food and shelter. It\\'s different from work, which is about creating objects, and action, which involves political engagement. The context emphasizes that labor is tied to the body\\'s needs and the cycle of production and consumption, providing a kind of happiness through the process itself, not just the outcome. The modern age has focused too much on labor, leading to a society where people are defined by their labor, and when automation frees them, they don\\'t know what to do because they haven\\'t engaged in higher activities. \\n\\nI need to make sure the answer includes that labor is about subsistence, the cycle of production and consumption, and how it\\'s distinct from work and action. Also mention the \"bondage to necessity\" and the \"blessing of labor\" as inherent in the process. The answer should be concise, using the key points from the text without adding external information.\\n</think>\\n\\nFor Hannah Arendt, **labor** refers to the repetitive, necessary activity focused on producing the means of subsistence (e.g., food, shelter) to sustain biological life. It is tied to the \"bondage to necessity\" and the cycle of production and consumption, where effort and gratification are closely linked, making happiness a byproduct of the process itself. Unlike **work** (creating enduring objects) or **action** (engaging in political and meaningful public life), labor is driven by the body\\'s needs and lacks the capacity for lasting significance or freedom. Arendt critiques the modern glorification of labor, arguing that it has transformed society into a \"laboring society,\" leaving people unprepared for the liberation automation might bring, as they have neglected higher, more meaningful activities.', tool_call_id=None, tool_calls=None)\n"
          ]
        }
      ],
      "source": [
        "from langchain.chains import RetrievalQA\n",
        "import os\n",
        "from huggingface_hub import InferenceClient\n",
        "\n",
        "os.environ[\"HF_TOKEN\"] = \"hf_\"\n",
        "query = \"What is labor for Arendt?\"\n",
        "\n",
        "context = \"\\n\\n\".join(doc.page_content for doc in relevant_docs)\n",
        "final_prompt = f\"\"\"Answer the question using the context below. If the answer is not in the context, say \"I don't know\".\n",
        "\n",
        "Context:\n",
        "{context}\n",
        "\n",
        "Question:\n",
        "{query}\n",
        "\"\"\"\n",
        "\n",
        "client = InferenceClient(\n",
        "    provider=\"novita\",\n",
        "    api_key=os.environ[\"HF_TOKEN\"],\n",
        ")\n",
        "\n",
        "completion = client.chat.completions.create(\n",
        "    model=\"Qwen/Qwen3-30B-A3B\",\n",
        "    messages=[\n",
        "        {\n",
        "            \"role\": \"user\",\n",
        "            \"content\": final_prompt\n",
        "        }\n",
        "    ],\n",
        ")\n",
        "\n",
        "print(completion.choices[0].message)"
      ]
    }
  ],
  "metadata": {
    "colab": {
      "provenance": []
    },
    "kernelspec": {
      "display_name": "Python 3",
      "name": "python3"
    },
    "language_info": {
      "codemirror_mode": {
        "name": "ipython",
        "version": 3
      },
      "file_extension": ".py",
      "mimetype": "text/x-python",
      "name": "python",
      "nbconvert_exporter": "python",
      "pygments_lexer": "ipython3",
      "version": "3.12.4"
    }
  },
  "nbformat": 4,
  "nbformat_minor": 0
}
